{
 "cells": [
  {
   "cell_type": "code",
   "execution_count": 2,
   "metadata": {},
   "outputs": [
    {
     "data": {
      "text/latex": [
       "$\\displaystyle \\frac{\\sqrt{2} e^{- \\pi s}}{2} + \\frac{e^{- s}}{s}$"
      ],
      "text/plain": [
       "sqrt(2)*exp(-pi*s)/2 + exp(-s)/s"
      ]
     },
     "execution_count": 2,
     "metadata": {},
     "output_type": "execute_result"
    }
   ],
   "source": [
    "#Questão 1\n",
    "import sympy as sp\n",
    "\n",
    "t, s = sp.symbols('t, s')\n",
    "a = sp.symbols('a', real=True, positive=True)\n",
    "\n",
    "x1 = sp.Heaviside(t - 1)\n",
    "    \n",
    "x2 = sp.cos(t - (3*sp.pi)/4)*sp.DiracDelta(t-sp.pi)\n",
    "\n",
    "XS1 = sp.laplace_transform(x1, t, s, noconds=True)\n",
    "\n",
    "XS2 = sp.laplace_transform(x2, t, s, noconds = True)\n",
    "\n",
    "XS = XS1 + XS2\n",
    "\n",
    "XS\n",
    "\n"
   ]
  },
  {
   "cell_type": "code",
   "execution_count": 30,
   "metadata": {},
   "outputs": [
    {
     "data": {
      "text/latex": [
       "$\\displaystyle \\frac{3 s^{2} + 16 s + 53}{s^{3} + 7 s^{2} + 31 s + 25}$"
      ],
      "text/plain": [
       "(3*s**2 + 16*s + 53)/(s**3 + 7*s**2 + 31*s + 25)"
      ]
     },
     "execution_count": 30,
     "metadata": {},
     "output_type": "execute_result"
    }
   ],
   "source": [
    "#Questão 2, Letra A\n",
    "\n",
    "import sympy as sp\n",
    "\n",
    "t, s = sp.symbols('t, s')\n",
    "a = sp.symbols('a', real=True, positive=True)\n",
    "\n",
    "x1 = 2*sp.exp(-1*t)\n",
    "    \n",
    "x2 = sp.exp(-3*t)*sp.cos(4*t)\n",
    "\n",
    "XS = sp.laplace_transform(x1 + x2, t, s, noconds=True)\n",
    "\n",
    "XS"
   ]
  },
  {
   "cell_type": "code",
   "execution_count": 3,
   "metadata": {},
   "outputs": [
    {
     "data": {
      "text/latex": [
       "$\\displaystyle \\frac{\\left(e^{2 t} + 5\\right) e^{- 2 t} \\theta\\left(t\\right)}{2}$"
      ],
      "text/plain": [
       "(exp(2*t) + 5)*exp(-2*t)*Heaviside(t)/2"
      ]
     },
     "execution_count": 3,
     "metadata": {},
     "output_type": "execute_result"
    }
   ],
   "source": [
    "#Questão 3, Letra A\n",
    "\n",
    "import sympy as sp\n",
    "\n",
    "t, s = sp.symbols('t, s')\n",
    "a = sp.symbols('a', real=True, positive=True)\n",
    "\n",
    "num = 3*s + 1\n",
    "den = s*(s+2)\n",
    "\n",
    "XS = num/den\n",
    "\n",
    "sp.apart(XS)\n",
    "\n",
    "f = sp.inverse_laplace_transform(XS, s, t)\n",
    "\n",
    "f\n"
   ]
  },
  {
   "cell_type": "code",
   "execution_count": 32,
   "metadata": {},
   "outputs": [
    {
     "data": {
      "text/latex": [
       "$\\displaystyle \\frac{\\left(10 t + e^{2 t} - 1\\right) e^{- 2 t} \\theta\\left(t\\right)}{4}$"
      ],
      "text/plain": [
       "(10*t + exp(2*t) - 1)*exp(-2*t)*Heaviside(t)/4"
      ]
     },
     "execution_count": 32,
     "metadata": {},
     "output_type": "execute_result"
    }
   ],
   "source": [
    "#Questão 3, Letra B\n",
    "\n",
    "import sympy as sp\n",
    "\n",
    "t, s = sp.symbols('t, s')\n",
    "a = sp.symbols('a', real=True, positive=True)\n",
    "\n",
    "num = 3*s + 1\n",
    "den = s*(s+2)**2\n",
    "\n",
    "XS = num/den\n",
    "\n",
    "sp.apart(XS)\n",
    "\n",
    "f = sp.inverse_laplace_transform(XS, s, t)\n",
    "\n",
    "f"
   ]
  }
 ],
 "metadata": {
  "kernelspec": {
   "display_name": "Python 3.9.13 64-bit (windows store)",
   "language": "python",
   "name": "python3"
  },
  "language_info": {
   "codemirror_mode": {
    "name": "ipython",
    "version": 3
   },
   "file_extension": ".py",
   "mimetype": "text/x-python",
   "name": "python",
   "nbconvert_exporter": "python",
   "pygments_lexer": "ipython3",
   "version": "3.9.13"
  },
  "orig_nbformat": 4,
  "vscode": {
   "interpreter": {
    "hash": "1e4c85e933801b2a2292327c3cf531c11931407db898f4e7f6867c2a4cea2b50"
   }
  }
 },
 "nbformat": 4,
 "nbformat_minor": 2
}
