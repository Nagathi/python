{
 "cells": [
  {
   "cell_type": "code",
   "execution_count": 29,
   "metadata": {},
   "outputs": [],
   "source": [
    "#Importando as bibliotecas necessárias\n",
    "\n",
    "import sympy as sp\n",
    "import numpy as np\n",
    "from sympy import pi\n",
    "from sympy import I\n",
    "import matplotlib.pyplot as plt"
   ]
  },
  {
   "cell_type": "code",
   "execution_count": 50,
   "metadata": {},
   "outputs": [
    {
     "data": {
      "text/latex": [
       "$\\displaystyle \\frac{2 \\sin{\\left(4 \\right)} \\sin{\\left(2 t \\right)}}{\\pi} + \\frac{2 \\sin{\\left(8 \\right)} \\sin{\\left(4 t \\right)}}{\\pi} + \\frac{2 \\sin{\\left(12 \\right)} \\sin{\\left(6 t \\right)}}{\\pi} + \\frac{2 \\sin{\\left(16 \\right)} \\sin{\\left(8 t \\right)}}{\\pi} + \\frac{2 \\sin{\\left(20 \\right)} \\sin{\\left(10 t \\right)}}{\\pi} + \\frac{2 \\sin{\\left(24 \\right)} \\sin{\\left(12 t \\right)}}{\\pi} + \\frac{2 \\sin{\\left(28 \\right)} \\sin{\\left(14 t \\right)}}{\\pi} + \\frac{2 \\sin{\\left(32 \\right)} \\sin{\\left(16 t \\right)}}{\\pi} + \\frac{2 \\sin{\\left(36 \\right)} \\sin{\\left(18 t \\right)}}{\\pi} + \\frac{2 \\sin{\\left(40 \\right)} \\sin{\\left(20 t \\right)}}{\\pi} + \\frac{2 \\sin{\\left(44 \\right)} \\sin{\\left(22 t \\right)}}{\\pi} + \\frac{2 \\sin{\\left(48 \\right)} \\sin{\\left(24 t \\right)}}{\\pi} + \\frac{2 \\sin{\\left(52 \\right)} \\sin{\\left(26 t \\right)}}{\\pi} + \\frac{2 \\sin{\\left(56 \\right)} \\sin{\\left(28 t \\right)}}{\\pi} + \\frac{2 \\sin{\\left(60 \\right)} \\sin{\\left(30 t \\right)}}{\\pi} + \\frac{2 \\sin{\\left(64 \\right)} \\sin{\\left(32 t \\right)}}{\\pi} + \\frac{2 \\sin{\\left(68 \\right)} \\sin{\\left(34 t \\right)}}{\\pi} + \\frac{2 \\sin{\\left(72 \\right)} \\sin{\\left(36 t \\right)}}{\\pi} + \\frac{2 \\sin{\\left(76 \\right)} \\sin{\\left(38 t \\right)}}{\\pi} + \\frac{2 \\sin{\\left(80 \\right)} \\sin{\\left(40 t \\right)}}{\\pi} + \\frac{2 \\sin{\\left(84 \\right)} \\sin{\\left(42 t \\right)}}{\\pi} + \\frac{2 \\sin{\\left(88 \\right)} \\sin{\\left(44 t \\right)}}{\\pi} + \\frac{2 \\sin{\\left(92 \\right)} \\sin{\\left(46 t \\right)}}{\\pi} + \\frac{2 \\sin{\\left(96 \\right)} \\sin{\\left(48 t \\right)}}{\\pi} + \\frac{2 \\sin{\\left(100 \\right)} \\sin{\\left(50 t \\right)}}{\\pi} + \\frac{2 \\sin{\\left(104 \\right)} \\sin{\\left(52 t \\right)}}{\\pi} + \\frac{2 \\sin{\\left(108 \\right)} \\sin{\\left(54 t \\right)}}{\\pi} + \\frac{2 \\sin{\\left(112 \\right)} \\sin{\\left(56 t \\right)}}{\\pi} + \\frac{2 \\sin{\\left(116 \\right)} \\sin{\\left(58 t \\right)}}{\\pi} + \\frac{2 \\sin{\\left(120 \\right)} \\sin{\\left(60 t \\right)}}{\\pi} + \\frac{2 \\sin{\\left(124 \\right)} \\sin{\\left(62 t \\right)}}{\\pi} + \\frac{2 \\sin{\\left(128 \\right)} \\sin{\\left(64 t \\right)}}{\\pi} + \\frac{2 \\sin{\\left(132 \\right)} \\sin{\\left(66 t \\right)}}{\\pi} + \\frac{2 \\sin{\\left(136 \\right)} \\sin{\\left(68 t \\right)}}{\\pi} + \\frac{2 \\cos{\\left(4 \\right)} \\cos{\\left(2 t \\right)}}{\\pi} + \\frac{2 \\cos{\\left(8 \\right)} \\cos{\\left(4 t \\right)}}{\\pi} + \\frac{2 \\cos{\\left(12 \\right)} \\cos{\\left(6 t \\right)}}{\\pi} + \\frac{2 \\cos{\\left(16 \\right)} \\cos{\\left(8 t \\right)}}{\\pi} + \\frac{2 \\cos{\\left(20 \\right)} \\cos{\\left(10 t \\right)}}{\\pi} + \\frac{2 \\cos{\\left(24 \\right)} \\cos{\\left(12 t \\right)}}{\\pi} + \\frac{2 \\cos{\\left(28 \\right)} \\cos{\\left(14 t \\right)}}{\\pi} + \\frac{2 \\cos{\\left(32 \\right)} \\cos{\\left(16 t \\right)}}{\\pi} + \\frac{2 \\cos{\\left(36 \\right)} \\cos{\\left(18 t \\right)}}{\\pi} + \\frac{2 \\cos{\\left(40 \\right)} \\cos{\\left(20 t \\right)}}{\\pi} + \\frac{2 \\cos{\\left(44 \\right)} \\cos{\\left(22 t \\right)}}{\\pi} + \\frac{2 \\cos{\\left(48 \\right)} \\cos{\\left(24 t \\right)}}{\\pi} + \\frac{2 \\cos{\\left(52 \\right)} \\cos{\\left(26 t \\right)}}{\\pi} + \\frac{2 \\cos{\\left(56 \\right)} \\cos{\\left(28 t \\right)}}{\\pi} + \\frac{2 \\cos{\\left(60 \\right)} \\cos{\\left(30 t \\right)}}{\\pi} + \\frac{2 \\cos{\\left(64 \\right)} \\cos{\\left(32 t \\right)}}{\\pi} + \\frac{2 \\cos{\\left(68 \\right)} \\cos{\\left(34 t \\right)}}{\\pi} + \\frac{2 \\cos{\\left(72 \\right)} \\cos{\\left(36 t \\right)}}{\\pi} + \\frac{2 \\cos{\\left(76 \\right)} \\cos{\\left(38 t \\right)}}{\\pi} + \\frac{2 \\cos{\\left(80 \\right)} \\cos{\\left(40 t \\right)}}{\\pi} + \\frac{2 \\cos{\\left(84 \\right)} \\cos{\\left(42 t \\right)}}{\\pi} + \\frac{2 \\cos{\\left(88 \\right)} \\cos{\\left(44 t \\right)}}{\\pi} + \\frac{2 \\cos{\\left(92 \\right)} \\cos{\\left(46 t \\right)}}{\\pi} + \\frac{2 \\cos{\\left(96 \\right)} \\cos{\\left(48 t \\right)}}{\\pi} + \\frac{2 \\cos{\\left(100 \\right)} \\cos{\\left(50 t \\right)}}{\\pi} + \\frac{2 \\cos{\\left(104 \\right)} \\cos{\\left(52 t \\right)}}{\\pi} + \\frac{2 \\cos{\\left(108 \\right)} \\cos{\\left(54 t \\right)}}{\\pi} + \\frac{2 \\cos{\\left(112 \\right)} \\cos{\\left(56 t \\right)}}{\\pi} + \\frac{2 \\cos{\\left(116 \\right)} \\cos{\\left(58 t \\right)}}{\\pi} + \\frac{2 \\cos{\\left(120 \\right)} \\cos{\\left(60 t \\right)}}{\\pi} + \\frac{2 \\cos{\\left(124 \\right)} \\cos{\\left(62 t \\right)}}{\\pi} + \\frac{2 \\cos{\\left(128 \\right)} \\cos{\\left(64 t \\right)}}{\\pi} + \\frac{2 \\cos{\\left(132 \\right)} \\cos{\\left(66 t \\right)}}{\\pi} + \\frac{2 \\cos{\\left(136 \\right)} \\cos{\\left(68 t \\right)}}{\\pi} + \\frac{1}{\\pi}$"
      ],
      "text/plain": [
       "2*sin(4)*sin(2*t)/pi + 2*sin(8)*sin(4*t)/pi + 2*sin(12)*sin(6*t)/pi + 2*sin(16)*sin(8*t)/pi + 2*sin(20)*sin(10*t)/pi + 2*sin(24)*sin(12*t)/pi + 2*sin(28)*sin(14*t)/pi + 2*sin(32)*sin(16*t)/pi + 2*sin(36)*sin(18*t)/pi + 2*sin(40)*sin(20*t)/pi + 2*sin(44)*sin(22*t)/pi + 2*sin(48)*sin(24*t)/pi + 2*sin(52)*sin(26*t)/pi + 2*sin(56)*sin(28*t)/pi + 2*sin(60)*sin(30*t)/pi + 2*sin(64)*sin(32*t)/pi + 2*sin(68)*sin(34*t)/pi + 2*sin(72)*sin(36*t)/pi + 2*sin(76)*sin(38*t)/pi + 2*sin(80)*sin(40*t)/pi + 2*sin(84)*sin(42*t)/pi + 2*sin(88)*sin(44*t)/pi + 2*sin(92)*sin(46*t)/pi + 2*sin(96)*sin(48*t)/pi + 2*sin(100)*sin(50*t)/pi + 2*sin(104)*sin(52*t)/pi + 2*sin(108)*sin(54*t)/pi + 2*sin(112)*sin(56*t)/pi + 2*sin(116)*sin(58*t)/pi + 2*sin(120)*sin(60*t)/pi + 2*sin(124)*sin(62*t)/pi + 2*sin(128)*sin(64*t)/pi + 2*sin(132)*sin(66*t)/pi + 2*sin(136)*sin(68*t)/pi + 2*cos(4)*cos(2*t)/pi + 2*cos(8)*cos(4*t)/pi + 2*cos(12)*cos(6*t)/pi + 2*cos(16)*cos(8*t)/pi + 2*cos(20)*cos(10*t)/pi + 2*cos(24)*cos(12*t)/pi + 2*cos(28)*cos(14*t)/pi + 2*cos(32)*cos(16*t)/pi + 2*cos(36)*cos(18*t)/pi + 2*cos(40)*cos(20*t)/pi + 2*cos(44)*cos(22*t)/pi + 2*cos(48)*cos(24*t)/pi + 2*cos(52)*cos(26*t)/pi + 2*cos(56)*cos(28*t)/pi + 2*cos(60)*cos(30*t)/pi + 2*cos(64)*cos(32*t)/pi + 2*cos(68)*cos(34*t)/pi + 2*cos(72)*cos(36*t)/pi + 2*cos(76)*cos(38*t)/pi + 2*cos(80)*cos(40*t)/pi + 2*cos(84)*cos(42*t)/pi + 2*cos(88)*cos(44*t)/pi + 2*cos(92)*cos(46*t)/pi + 2*cos(96)*cos(48*t)/pi + 2*cos(100)*cos(50*t)/pi + 2*cos(104)*cos(52*t)/pi + 2*cos(108)*cos(54*t)/pi + 2*cos(112)*cos(56*t)/pi + 2*cos(116)*cos(58*t)/pi + 2*cos(120)*cos(60*t)/pi + 2*cos(124)*cos(62*t)/pi + 2*cos(128)*cos(64*t)/pi + 2*cos(132)*cos(66*t)/pi + 2*cos(136)*cos(68*t)/pi + 1/pi"
      ]
     },
     "execution_count": 50,
     "metadata": {},
     "output_type": "execute_result"
    }
   ],
   "source": [
    "\n",
    "#Calculando a série de Fpurier para o sinal \"x\"\n",
    "\n",
    "t = sp.symbols('t')\n",
    "x = sp.DiracDelta(t-2)\n",
    "\n",
    "s = sp.fourier_series(x, (t, 0, pi))\n",
    "xs = s.truncate(n = 35)\n",
    "\n",
    "xs\n"
   ]
  },
  {
   "cell_type": "code",
   "execution_count": 31,
   "metadata": {},
   "outputs": [
    {
     "data": {
      "text/latex": [
       "$\\displaystyle - 0.526 \\sin{\\left(2 t \\right)} - 0.182 \\sin{\\left(4 t \\right)} - 0.0166 \\sin{\\left(6 t \\right)} - 0.156 \\sin{\\left(8 t \\right)} - 0.0377 \\sin{\\left(10 t \\right)} - 0.0306 \\sin{\\left(12 t \\right)} - 0.0893 \\sin{\\left(14 t \\right)} - 0.0066 \\sin{\\left(16 t \\right)} - 0.0399 \\sin{\\left(18 t \\right)} - 0.0531 \\sin{\\left(20 t \\right)} - 4.86 \\cdot 10^{-6} \\sin{\\left(22 t \\right)} - 0.0435 \\sin{\\left(24 t \\right)} - 0.0285 \\sin{\\left(26 t \\right)} - 0.00334 \\sin{\\left(28 t \\right)} - 0.0414 \\sin{\\left(30 t \\right)} - 0.0121 \\sin{\\left(32 t \\right)} - 0.0105 \\sin{\\left(34 t \\right)} - 0.0348 \\sin{\\left(36 t \\right)} - 0.00294 \\sin{\\left(38 t \\right)} - 0.0177 \\sin{\\left(40 t \\right)} - 0.0255 \\sin{\\left(42 t \\right)} - 9.72 \\cdot 10^{-6} \\sin{\\left(44 t \\right)} - 0.0225 \\sin{\\left(46 t \\right)} - 0.0157 \\sin{\\left(48 t \\right)} - 0.00175 \\sin{\\left(50 t \\right)} - 0.0238 \\sin{\\left(52 t \\right)} - 0.00736 \\sin{\\left(54 t \\right)} - 0.00619 \\sin{\\left(56 t \\right)} - 0.0216 \\sin{\\left(58 t \\right)} - 0.00197 \\sin{\\left(60 t \\right)} - 0.0112 \\sin{\\left(62 t \\right)} - 0.0168 \\sin{\\left(64 t \\right)} - 1.46 \\cdot 10^{-5} \\sin{\\left(66 t \\right)} - 0.0151 \\sin{\\left(68 t \\right)} + 0.241 \\cos{\\left(2 t \\right)} - 0.158 \\cos{\\left(4 t \\right)} + 0.0569 \\cos{\\left(6 t \\right)} + 0.0229 \\cos{\\left(8 t \\right)} - 0.0581 \\cos{\\left(10 t \\right)} + 0.048 \\cos{\\left(12 t \\right)} - 0.0123 \\cos{\\left(14 t \\right)} - 0.0219 \\cos{\\left(16 t \\right)} + 0.0351 \\cos{\\left(18 t \\right)} - 0.0237 \\cos{\\left(20 t \\right)} - 0.000512 \\cos{\\left(22 t \\right)} + 0.0204 \\cos{\\left(24 t \\right)} - 0.0242 \\cos{\\left(26 t \\right)} + 0.0119 \\cos{\\left(28 t \\right)} + 0.00647 \\cos{\\left(30 t \\right)} - 0.0183 \\cos{\\left(32 t \\right)} + 0.0168 \\cos{\\left(34 t \\right)} - 0.00449 \\cos{\\left(36 t \\right)} - 0.00949 \\cos{\\left(38 t \\right)} + 0.0158 \\cos{\\left(40 t \\right)} - 0.0111 \\cos{\\left(42 t \\right)} - 0.000512 \\cos{\\left(44 t \\right)} + 0.0108 \\cos{\\left(46 t \\right)} - 0.013 \\cos{\\left(48 t \\right)} + 0.00645 \\cos{\\left(50 t \\right)} + 0.00394 \\cos{\\left(52 t \\right)} - 0.0109 \\cos{\\left(54 t \\right)} + 0.0101 \\cos{\\left(56 t \\right)} - 0.0026 \\cos{\\left(58 t \\right)} - 0.00616 \\cos{\\left(60 t \\right)} + 0.0102 \\cos{\\left(62 t \\right)} - 0.00717 \\cos{\\left(64 t \\right)} - 0.000512 \\cos{\\left(66 t \\right)} + 0.0074 \\cos{\\left(68 t \\right)} + 0.363$"
      ],
      "text/plain": [
       "-0.526*sin(2*t) - 0.182*sin(4*t) - 0.0166*sin(6*t) - 0.156*sin(8*t) - 0.0377*sin(10*t) - 0.0306*sin(12*t) - 0.0893*sin(14*t) - 0.0066*sin(16*t) - 0.0399*sin(18*t) - 0.0531*sin(20*t) - 4.86e-6*sin(22*t) - 0.0435*sin(24*t) - 0.0285*sin(26*t) - 0.00334*sin(28*t) - 0.0414*sin(30*t) - 0.0121*sin(32*t) - 0.0105*sin(34*t) - 0.0348*sin(36*t) - 0.00294*sin(38*t) - 0.0177*sin(40*t) - 0.0255*sin(42*t) - 9.72e-6*sin(44*t) - 0.0225*sin(46*t) - 0.0157*sin(48*t) - 0.00175*sin(50*t) - 0.0238*sin(52*t) - 0.00736*sin(54*t) - 0.00619*sin(56*t) - 0.0216*sin(58*t) - 0.00197*sin(60*t) - 0.0112*sin(62*t) - 0.0168*sin(64*t) - 1.46e-5*sin(66*t) - 0.0151*sin(68*t) + 0.241*cos(2*t) - 0.158*cos(4*t) + 0.0569*cos(6*t) + 0.0229*cos(8*t) - 0.0581*cos(10*t) + 0.048*cos(12*t) - 0.0123*cos(14*t) - 0.0219*cos(16*t) + 0.0351*cos(18*t) - 0.0237*cos(20*t) - 0.000512*cos(22*t) + 0.0204*cos(24*t) - 0.0242*cos(26*t) + 0.0119*cos(28*t) + 0.00647*cos(30*t) - 0.0183*cos(32*t) + 0.0168*cos(34*t) - 0.00449*cos(36*t) - 0.00949*cos(38*t) + 0.0158*cos(40*t) - 0.0111*cos(42*t) - 0.000512*cos(44*t) + 0.0108*cos(46*t) - 0.013*cos(48*t) + 0.00645*cos(50*t) + 0.00394*cos(52*t) - 0.0109*cos(54*t) + 0.0101*cos(56*t) - 0.0026*cos(58*t) - 0.00616*cos(60*t) + 0.0102*cos(62*t) - 0.00717*cos(64*t) - 0.000512*cos(66*t) + 0.0074*cos(68*t) + 0.363"
      ]
     },
     "execution_count": 31,
     "metadata": {},
     "output_type": "execute_result"
    }
   ],
   "source": [
    "#Usando a função evalf para obter a série mais simplificada\n",
    "\n",
    "xs = xs.evalf(3)\n",
    "xs"
   ]
  },
  {
   "cell_type": "code",
   "execution_count": 51,
   "metadata": {},
   "outputs": [
    {
     "data": {
      "image/png": "[encoded data removed]",
      "text/plain": [
       "<Figure size 432x288 with 1 Axes>"
      ]
     },
     "metadata": {
      "needs_background": "light"
     },
     "output_type": "display_data"
    },
    {
     "data": {
      "text/plain": [
       "<sympy.plotting.plot.Plot at 0x1a8a8b404c0>"
      ]
     },
     "execution_count": 51,
     "metadata": {},
     "output_type": "execute_result"
    }
   ],
   "source": [
    "#Plotando o gráfico do sinal \"x\" com base nos dados da Série de Fourier\n",
    "\n",
    "sp.plot(xs, (t, -2*pi, 2*pi))"
   ]
  },
  {
   "cell_type": "code",
   "execution_count": 33,
   "metadata": {},
   "outputs": [
    {
     "data": {
      "text/latex": [
       "$\\displaystyle \\frac{- 2 {G_{2, 2}^{0, 2}\\left(\\begin{matrix} 2, 1 &  \\\\ & 1, 0 \\end{matrix} \\middle| {1} \\right)} + 2 {G_{2, 2}^{0, 2}\\left(\\begin{matrix} 2, 1 &  \\\\ & 1, 0 \\end{matrix} \\middle| {\\frac{\\pi}{2}} \\right)}}{\\pi}$"
      ],
      "text/plain": [
       "(-2*meijerg(((2, 1), ()), ((), (1, 0)), 1) + 2*meijerg(((2, 1), ()), ((), (1, 0)), pi/2))/pi"
      ]
     },
     "execution_count": 33,
     "metadata": {},
     "output_type": "execute_result"
    }
   ],
   "source": [
    "#Calculando o Valor Médio\n",
    "\n",
    "t0 = pi\n",
    "\n",
    "a0 = (1/t0)*sp.integrate(x, (t, 0, t0))\n",
    "a0"
   ]
  },
  {
   "cell_type": "code",
   "execution_count": 34,
   "metadata": {},
   "outputs": [
    {
     "data": {
      "text/latex": [
       "$\\displaystyle 0.363$"
      ],
      "text/plain": [
       "0.363"
      ]
     },
     "execution_count": 34,
     "metadata": {},
     "output_type": "execute_result"
    }
   ],
   "source": [
    "#Obtendo o valor médio simplificado\n",
    "\n",
    "a0.evalf(3)"
   ]
  },
  {
   "cell_type": "code",
   "execution_count": 35,
   "metadata": {},
   "outputs": [
    {
     "data": {
      "text/latex": [
       "$\\displaystyle \\frac{2 \\left(- \\begin{cases} 2 & \\text{for}\\: n = 0 \\\\\\frac{\\sin{\\left(4 n \\right)}}{2 n} & \\text{otherwise} \\end{cases} + \\begin{cases} \\pi & \\text{for}\\: n = 0 \\\\\\frac{\\sin{\\left(2 \\pi n \\right)}}{2 n} & \\text{otherwise} \\end{cases}\\right)}{\\pi}$"
      ],
      "text/plain": [
       "2*(-Piecewise((2, Eq(n, 0)), (sin(4*n)/(2*n), True)) + Piecewise((pi, Eq(n, 0)), (sin(2*pi*n)/(2*n), True)))/pi"
      ]
     },
     "execution_count": 35,
     "metadata": {},
     "output_type": "execute_result"
    }
   ],
   "source": [
    "#Calculando o Valor de An\n",
    "\n",
    "w0 = 2\n",
    "n = sp.symbols('n', const = True)\n",
    "\n",
    "an = (2/t0)*sp.integrate(x*sp.cos(w0*n*t), (t, 0, t0))\n",
    "an"
   ]
  },
  {
   "cell_type": "code",
   "execution_count": 36,
   "metadata": {},
   "outputs": [
    {
     "data": {
      "text/latex": [
       "$\\displaystyle - 0.637 \\left(\\begin{cases} 2.0 & \\text{for}\\: n = 0 \\\\\\frac{0.5 \\sin{\\left(4 n \\right)}}{n} & \\text{otherwise} \\end{cases}\\right) + 0.637 \\left(\\begin{cases} 3.14 & \\text{for}\\: n = 0 \\\\\\frac{0.5 \\sin{\\left(2 \\pi n \\right)}}{n} & \\text{otherwise} \\end{cases}\\right)$"
      ],
      "text/plain": [
       "-0.637*Piecewise((2.0, Eq(n, 0)), (0.5*sin(4*n)/n, True)) + 0.637*Piecewise((3.14, Eq(n, 0)), (0.5*sin(2*pi*n)/n, True))"
      ]
     },
     "execution_count": 36,
     "metadata": {},
     "output_type": "execute_result"
    }
   ],
   "source": [
    "#Obtendo o resultado simplificado de An\n",
    "\n",
    "an.evalf(3)"
   ]
  },
  {
   "cell_type": "code",
   "execution_count": 37,
   "metadata": {},
   "outputs": [
    {
     "data": {
      "text/latex": [
       "$\\displaystyle \\frac{2 \\left(- \\begin{cases} 0 & \\text{for}\\: n = 0 \\\\- \\frac{\\cos{\\left(4 n \\right)}}{2 n} & \\text{otherwise} \\end{cases} + \\begin{cases} 0 & \\text{for}\\: n = 0 \\\\- \\frac{\\cos{\\left(2 \\pi n \\right)}}{2 n} & \\text{otherwise} \\end{cases}\\right)}{\\pi}$"
      ],
      "text/plain": [
       "2*(-Piecewise((0, Eq(n, 0)), (-cos(4*n)/(2*n), True)) + Piecewise((0, Eq(n, 0)), (-cos(2*pi*n)/(2*n), True)))/pi"
      ]
     },
     "execution_count": 37,
     "metadata": {},
     "output_type": "execute_result"
    }
   ],
   "source": [
    "#Calculando o Valor de Bn\n",
    "\n",
    "bn = (2/t0)*sp.integrate(x*sp.sin(w0*n*t), (t, 0, t0))\n",
    "bn"
   ]
  },
  {
   "cell_type": "code",
   "execution_count": 38,
   "metadata": {},
   "outputs": [
    {
     "data": {
      "text/latex": [
       "$\\displaystyle - 0.637 \\left(\\begin{cases} 0 & \\text{for}\\: n = 0 \\\\- \\frac{0.5 \\cos{\\left(4 n \\right)}}{n} & \\text{otherwise} \\end{cases}\\right) + 0.637 \\left(\\begin{cases} 0 & \\text{for}\\: n = 0 \\\\- \\frac{0.5 \\cos{\\left(2 \\pi n \\right)}}{n} & \\text{otherwise} \\end{cases}\\right)$"
      ],
      "text/plain": [
       "-0.637*Piecewise((0, Eq(n, 0)), (-0.5*cos(4*n)/n, True)) + 0.637*Piecewise((0, Eq(n, 0)), (-0.5*cos(2*pi*n)/n, True))"
      ]
     },
     "execution_count": 38,
     "metadata": {},
     "output_type": "execute_result"
    }
   ],
   "source": [
    "#Obtendo o resultado simplificado de Bn\n",
    "\n",
    "bn.evalf(3)"
   ]
  },
  {
   "cell_type": "code",
   "execution_count": 39,
   "metadata": {},
   "outputs": [
    {
     "data": {
      "text/latex": [
       "$\\displaystyle -0.157$"
      ],
      "text/plain": [
       "-0.157"
      ]
     },
     "execution_count": 39,
     "metadata": {},
     "output_type": "execute_result"
    }
   ],
   "source": [
    "#Transformando o An em uma função matemática e calculando um coeficiente específico na Série de Fourier para An substituindo n\n",
    "\n",
    "an = lambda n: (2/t0)*sp.integrate(x*(sp.cos(w0*n*t)), (t, 0, t0))\n",
    "an(2).evalf(3)\n"
   ]
  },
  {
   "cell_type": "code",
   "execution_count": 40,
   "metadata": {},
   "outputs": [
    {
     "data": {
      "text/latex": [
       "$\\displaystyle -0.182$"
      ],
      "text/plain": [
       "-0.182"
      ]
     },
     "execution_count": 40,
     "metadata": {},
     "output_type": "execute_result"
    }
   ],
   "source": [
    "#Transformando o Bn em uma função matemática e calculando um coeficiente específico na Série de Fourier para Bn substituindo n\n",
    "\n",
    "bn = lambda n: (2/t0)*sp.integrate(x*(sp.sin(w0*n*t)), (t, 0, t0))\n",
    "bn(2).evalf(3)"
   ]
  },
  {
   "cell_type": "code",
   "execution_count": 41,
   "metadata": {},
   "outputs": [
    {
     "data": {
      "text/latex": [
       "$\\displaystyle \\begin{cases} 0.363 & \\text{for}\\: n = 0 \\\\\\frac{0.159 i \\left(e^{- 2 i \\pi n} - e^{- 4 i n}\\right)}{n} & \\text{otherwise} \\end{cases}$"
      ],
      "text/plain": [
       "Piecewise((0.363, Eq(n, 0)), (0.159*I*(exp(-2*I*pi*n) - exp(-4*I*n))/n, True))"
      ]
     },
     "execution_count": 41,
     "metadata": {},
     "output_type": "execute_result"
    }
   ],
   "source": [
    "#Calculando Dn na Série Exponencial de Fourier\n",
    "\n",
    "j = I\n",
    "\n",
    "dn = (1/t0)*sp.integrate((x*sp.exp(-j*n*w0*t)), (t, 0, t0))\n",
    "dn = dn.simplify().evalf(3)\n",
    "dn\n"
   ]
  },
  {
   "cell_type": "code",
   "execution_count": 42,
   "metadata": {},
   "outputs": [
    {
     "data": {
      "text/plain": [
       "<function __main__.<lambda>(n)>"
      ]
     },
     "execution_count": 42,
     "metadata": {},
     "output_type": "execute_result"
    }
   ],
   "source": [
    "#Transformando o Dn em uma função matemática\n",
    "\n",
    "dn = lambda n: (1/t0)*sp.integrate((x*sp.exp(-j*n*w0*t)), (t, 0, t0))\n",
    "dn"
   ]
  },
  {
   "cell_type": "code",
   "execution_count": 43,
   "metadata": {},
   "outputs": [],
   "source": [
    "#Criando um vetor de zeros do tipo complexo usando o Numpy\n",
    "\n",
    "N = 6\n",
    "D = np.zeros(2*N+1).astype(complex)\n",
    "n = np.arange(-N, N+1)"
   ]
  },
  {
   "cell_type": "code",
   "execution_count": 44,
   "metadata": {},
   "outputs": [],
   "source": [
    "#Laço de repetição para adicionar os valores de Dn da série no meu vetor de zeros\n",
    "\n",
    "for k in np.arange(0, len(n)):\n",
    "    D[k] = dn(n[k])"
   ]
  },
  {
   "cell_type": "code",
   "execution_count": 45,
   "metadata": {},
   "outputs": [],
   "source": [
    "#Calculando magnitude e fase de Dn para plotagem de gráficos\n",
    "\n",
    "D.round(3)\n",
    "mag_dn = np.abs(D)\n",
    "phase_dn = np.angle(D)*(180/np.pi) #Remova o *180/pi se quiser os dados em Radianos/segundo(Rads/s)\n",
    "\n"
   ]
  },
  {
   "cell_type": "code",
   "execution_count": 46,
   "metadata": {},
   "outputs": [
    {
     "data": {
      "text/plain": [
       "array([0.028, 0.035, 0.079, 0.03 , 0.12 , 0.289, 0.363, 0.289, 0.12 ,\n",
       "       0.03 , 0.079, 0.035, 0.028])"
      ]
     },
     "execution_count": 46,
     "metadata": {},
     "output_type": "execute_result"
    }
   ],
   "source": [
    "#Limitando os valores a 3 casas decimais para magnitude\n",
    "\n",
    "mag_dn.round(3)"
   ]
  },
  {
   "cell_type": "code",
   "execution_count": 47,
   "metadata": {},
   "outputs": [
    {
     "data": {
      "text/plain": [
       "array([ -32.451, -147.042,  -81.634,  -16.225, -130.817,  -65.408,\n",
       "          0.   ,   65.408,  130.817,   16.225,   81.634,  147.042,\n",
       "         32.451])"
      ]
     },
     "execution_count": 47,
     "metadata": {},
     "output_type": "execute_result"
    }
   ],
   "source": [
    "#Limitando os valores a 3 casas decimais para fase, a fase está em graus e não em rads/s\n",
    "\n",
    "phase_dn.round(3)"
   ]
  },
  {
   "cell_type": "code",
   "execution_count": 52,
   "metadata": {},
   "outputs": [
    {
     "data": {
      "text/plain": [
       "<StemContainer object of 3 artists>"
      ]
     },
     "execution_count": 52,
     "metadata": {},
     "output_type": "execute_result"
    },
    {
     "data": {
      "image/png": "[encoded data removed]",
      "text/plain": [
       "<Figure size 432x288 with 1 Axes>"
      ]
     },
     "metadata": {
      "needs_background": "light"
     },
     "output_type": "display_data"
    }
   ],
   "source": [
    "#Utilizando a função stem da biblioteca matplotlib para criar um gráfico discreto ao invés de contínuo para magnitude\n",
    "\n",
    "plt.stem(mag_dn)"
   ]
  },
  {
   "cell_type": "code",
   "execution_count": 53,
   "metadata": {},
   "outputs": [
    {
     "data": {
      "text/plain": [
       "<StemContainer object of 3 artists>"
      ]
     },
     "execution_count": 53,
     "metadata": {},
     "output_type": "execute_result"
    },
    {
     "data": {
      "image/png": "[encoded data removed]",
      "text/plain": [
       "<Figure size 432x288 with 1 Axes>"
      ]
     },
     "metadata": {
      "needs_background": "light"
     },
     "output_type": "display_data"
    }
   ],
   "source": [
    "#Utilizando a função stem da biblioteca matplotlib para criar um gráfico discreto ao invés de contínuo para fase\n",
    "\n",
    "plt.stem(phase_dn)"
   ]
  }
 ],
 "metadata": {
  "kernelspec": {
   "display_name": "Python 3.9.13 64-bit (windows store)",
   "language": "python",
   "name": "python3"
  },
  "language_info": {
   "codemirror_mode": {
    "name": "ipython",
    "version": 3
   },
   "file_extension": ".py",
   "mimetype": "text/x-python",
   "name": "python",
   "nbconvert_exporter": "python",
   "pygments_lexer": "ipython3",
   "version": "3.9.13"
  },
  "orig_nbformat": 4,
  "vscode": {
   "interpreter": {
    "hash": "1e4c85e933801b2a2292327c3cf531c11931407db898f4e7f6867c2a4cea2b50"
   }
  }
 },
 "nbformat": 4,
 "nbformat_minor": 2
}
